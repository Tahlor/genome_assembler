{
 "cells": [
  {
   "cell_type": "code",
   "execution_count": 1,
   "metadata": {},
   "outputs": [
    {
     "name": "stdout",
     "output_type": "stream",
     "text": [
      "/media/taylor/Data/PyCharm Projects/Genome Assembly Project\n",
      "example.data.fasta\n",
      "real.error.large.fasta\n",
      "real.error.small.fasta\n",
      "synthetic.example.noerror.small.fasta\n",
      "synthetic.noerror.large.fasta\n",
      "synthetic.noerror.small.fasta\n"
     ]
    }
   ],
   "source": [
    "import os\n",
    "import subprocess\n",
    "\n",
    "def mkdir(path):\n",
    "    try:\n",
    "        os.mkdir(path)\n",
    "    except Exception as e:\n",
    "        #print(e)\n",
    "        pass\n",
    "\n",
    "#./assemblers/velvet_1.2.10/velveth \"./data\" 11 \"./data/example.data.fasta\"\n",
    "#./assemblers/velvet_1.2.10/velvetg \"./data\" \n",
    "\n",
    "\n",
    "k = \"15\"\n",
    "results_path = r\"/media/taylor/Data/PyCharm Projects/Genome Assembly Project/data/results\"\n",
    "path = r\"/media/taylor/Data/PyCharm Projects/Genome Assembly Project/data\"\n",
    "\n",
    "print(os.getcwd())\n",
    "\n",
    "for f in os.listdir(path):\n",
    "    if f[-6:]==\".fasta\":\n",
    "        print(f)\n",
    "        fname = f[:-6]\n",
    "        file_path = os.path.join(path,f)\n",
    "        output_path = os.path.join(results_path, fname)\n",
    "        mkdir(output_path)\n",
    "        p = subprocess.Popen([r\"./assemblers/velvet_1.2.10/velveth\", output_path, k, file_path],shell=False,stdout=subprocess.PIPE, stderr=subprocess.PIPE)\n",
    "        #print(p.communicate())\n",
    "        #print(p.returncode)\n",
    "        subprocess.Popen([r\"./assemblers/velvet_1.2.10/velvetg\", output_path],shell=False,stdout=subprocess.PIPE, stderr=subprocess.PIPE)\n",
    "        \n",
    "\n"
   ]
  },
  {
   "cell_type": "code",
   "execution_count": null,
   "metadata": {},
   "outputs": [],
   "source": []
  }
 ],
 "metadata": {
  "kernelspec": {
   "display_name": "Python 3",
   "language": "python",
   "name": "python3"
  },
  "language_info": {
   "codemirror_mode": {
    "name": "ipython",
    "version": 3
   },
   "file_extension": ".py",
   "mimetype": "text/x-python",
   "name": "python",
   "nbconvert_exporter": "python",
   "pygments_lexer": "ipython3",
   "version": "3.6.6"
  }
 },
 "nbformat": 4,
 "nbformat_minor": 2
}
