{
 "cells": [
  {
   "cell_type": "code",
   "execution_count": 13,
   "metadata": {},
   "outputs": [
    {
     "name": "stdout",
     "output_type": "stream",
     "text": [
      "D:\\PyCharm Projects\\Genome Assembly Project\n",
      "1 example.data.fasta\n",
      "(b'[0.000000] Reading FastA file ./data\\\\1 example.data.fasta;\\r\\n[0.000000] 9 sequences found\\r\\n[0.000000] Done\\r\\n[1.297042] Reading read set file ./data/results\\\\1 example.data/Sequences;\\r\\n[1.297042] 9 sequences found\\r\\n[1.297537] Done\\r\\n[1.297537] 9 sequences in total.\\r\\n[1.298033] Writing into roadmap file ./data/results\\\\1 example.data/Roadmaps...\\r\\n[1.298033] Inputting sequences...\\r\\n[1.303490] Inputting sequence 0 / 9\\r\\n[1.304482]  === Sequences loaded in 0.006449 s\\r\\n[1.317873] Done inputting sequences\\r\\n[1.317873] Destroying splay table\\r\\n[1.323826] Splay table destroyed\\r\\n', b'')\n",
      "0\n",
      "2 synthetic.example.noerror.small.fasta\n",
      "(b'[0.000000] Reading FastA file ./data\\\\2 synthetic.example.noerror.small.fasta;\\r\\n[0.000495] 48 sequences found\\r\\n[0.000495] Done\\r\\n[1.781135] Reading read set file ./data/results\\\\2 synthetic.example.noerror.small/Sequences;\\r\\n[1.781135] 48 sequences found\\r\\n[1.781631] Done\\r\\n[1.781631] 48 sequences in total.\\r\\n[1.781631] Writing into roadmap file ./data/results\\\\2 synthetic.example.noerror.small/Roadmaps...\\r\\n[1.782128] Inputting sequences...\\r\\n[1.782624] Inputting sequence 0 / 48\\r\\n[1.785105]  === Sequences loaded in 0.002977 s\\r\\n[1.794416] Done inputting sequences\\r\\n[1.794416] Destroying splay table\\r\\n[1.799379] Splay table destroyed\\r\\n', b'')\n",
      "0\n",
      "3 synthetic.noerror.small.fasta\n",
      "(b'[0.000000] Reading FastA file ./data\\\\3 synthetic.noerror.small.fasta;\\r\\n[0.000496] 93 sequences found\\r\\n[0.000496] Done\\r\\n[1.574307] Reading read set file ./data/results\\\\3 synthetic.noerror.small/Sequences;\\r\\n[1.574307] 93 sequences found\\r\\n[1.574803] Done\\r\\n[1.574803] 93 sequences in total.\\r\\n[1.575299] Writing into roadmap file ./data/results\\\\3 synthetic.noerror.small/Roadmaps...\\r\\n[1.575299] Inputting sequences...\\r\\n[1.575792] Inputting sequence 0 / 93\\r\\n[1.577280]  === Sequences loaded in 0.001981 s\\r\\n[1.587217] Done inputting sequences\\r\\n[1.587217] Destroying splay table\\r\\n[1.590674] Splay table destroyed\\r\\n', b'')\n",
      "0\n",
      "4 synthetic.noerror.large.fasta\n",
      "(b'[0.000000] Reading FastA file ./data\\\\4 synthetic.noerror.large.fasta;\\r\\n[0.006447] 780 sequences found\\r\\n[0.006447] Done\\r\\n[1.462702] Reading read set file ./data/results\\\\4 synthetic.noerror.large/Sequences;\\r\\n[1.463695] 780 sequences found\\r\\n[1.466671] Done\\r\\n[1.466671] 780 sequences in total.\\r\\n[1.467166] Writing into roadmap file ./data/results\\\\4 synthetic.noerror.large/Roadmaps...\\r\\n[1.468158] Inputting sequences...\\r\\n[1.468655] Inputting sequence 0 / 780\\r\\n[1.481056]  === Sequences loaded in 0.012898 s\\r\\n[1.498910] Done inputting sequences\\r\\n[1.498910] Destroying splay table\\r\\n[1.506350] Splay table destroyed\\r\\n', b'')\n",
      "0\n",
      "5 real.error.small.fasta\n",
      "(b\"[0.000000] Velvet can't handle k-mers as long as 35! We'll stick to 31 if you don't mind.\\r\\n[0.011376] Reading FastA file ./data\\\\5 real.error.small.fasta;\\r\\n[0.012863] 102 sequences found\\r\\n[0.012863] Done\\r\\n[1.533106] Reading read set file ./data/results\\\\5 real.error.small/Sequences;\\r\\n[1.533600] 102 sequences found\\r\\n[1.534095] Done\\r\\n[1.534095] 102 sequences in total.\\r\\n[1.534593] Writing into roadmap file ./data/results\\\\5 real.error.small/Roadmaps...\\r\\n[1.534593] Inputting sequences...\\r\\n[1.535585] Inputting sequence 0 / 102\\r\\n[1.539552]  === Sequences loaded in 0.004959 s\\r\\n[1.551456] Done inputting sequences\\r\\n[1.551456] Destroying splay table\\r\\n[1.556916] Splay table destroyed\\r\\n\", b'velveth: Word length 33 greater than max allowed value (31).\\r\\nRecompile Velvet to deal with this word length.: File exists\\r\\n')\n",
      "1\n",
      "6 real.error.large.fasta\n",
      "(b\"[0.000000] Velvet can't handle k-mers as long as 43! We'll stick to 31 if you don't mind.\\r\\n[0.012397] Reading FastA file ./data\\\\6 real.error.large.fasta;\\r\\n[0.055551] 4675 sequences found\\r\\n[0.055551] Done\\r\\n[1.391773] Reading read set file ./data/results\\\\6 real.error.large/Sequences;\\r\\n[1.398224] 4675 sequences found\\r\\n[1.419056] Done\\r\\n[1.419056] 4675 sequences in total.\\r\\n[1.419580] Writing into roadmap file ./data/results\\\\6 real.error.large/Roadmaps...\\r\\n[1.434430] Inputting sequences...\\r\\n[1.435421] Inputting sequence 0 / 4675\\r\\n[1.606048]  === Sequences loaded in 0.172115 s\\r\\n[1.618448] Done inputting sequences\\r\\n[1.618448] Destroying splay table\\r\\n[1.642252] Splay table destroyed\\r\\n\", b'velveth: Word length 33 greater than max allowed value (31).\\r\\nRecompile Velvet to deal with this word length.: File exists\\r\\n')\n",
      "1\n"
     ]
    }
   ],
   "source": [
    "import os\n",
    "import subprocess\n",
    "import time\n",
    "\n",
    "def mkdir(path):\n",
    "    try:\n",
    "        os.mkdir(path)\n",
    "    except Exception as e:\n",
    "        #print(e)\n",
    "        pass\n",
    "\n",
    "#./assemblers/velvet_1.2.10/velveth \"./data\" 11 \"./data/example.data.fasta\"\n",
    "#./assemblers/velvet_1.2.10/velvetg \"./data\" \n",
    "\n",
    "\n",
    "k = \"17\"\n",
    "results_path = r\"./data/results\"\n",
    "path = r\"./data\"\n",
    "velveth = r\"./assemblers/Velvet_1.1.04_executables\\win64\\multithread\\velveth_mt_x64.exe\"\n",
    "velvetg = r\"./assemblers/Velvet_1.1.04_executables\\win64\\multithread\\velvetg_mt_x64.exe\"\n",
    "\n",
    "print(os.getcwd())\n",
    "\n",
    "d = {'1 example.data.fasta':13,'2 synthetic.example.noerror.small.fasta':15,'3 synthetic.noerror.small.fasta':21,'4 synthetic.noerror.large.fasta':29,'5 real.error.small.fasta':35,'6 real.error.large.fasta':43}\n",
    "# {'5 real.error.small.fasta':19,35,21,'6 real.error.large.fasta':53,43}\n",
    "\n",
    "for f in os.listdir(path):\n",
    "    if f[-6:]==\".fasta\":\n",
    "        print(f)\n",
    "        fname = f[:-6]\n",
    "        file_path = os.path.join(path,f)\n",
    "        output_path = os.path.join(results_path, fname)\n",
    "        mkdir(output_path)\n",
    "        k = str(d[f])\n",
    "        p = subprocess.Popen([velveth, output_path, k, file_path],shell=False,stdout=subprocess.PIPE, stderr=subprocess.PIPE)\n",
    "        p.wait()\n",
    "        time.sleep(1)\n",
    "        #\"-short2\"\n",
    "        print(p.communicate())\n",
    "        print(p.returncode)\n",
    "        subprocess.Popen([velvetg, output_path],shell=False,stdout=subprocess.PIPE, stderr=subprocess.PIPE)\n",
    "        \n",
    "\n"
   ]
  },
  {
   "cell_type": "code",
   "execution_count": null,
   "metadata": {},
   "outputs": [],
   "source": []
  }
 ],
 "metadata": {
  "kernelspec": {
   "display_name": "Python 3.6",
   "language": "python",
   "name": "py36"
  },
  "language_info": {
   "codemirror_mode": {
    "name": "ipython",
    "version": 3
   },
   "file_extension": ".py",
   "mimetype": "text/x-python",
   "name": "python",
   "nbconvert_exporter": "python",
   "pygments_lexer": "ipython3",
   "version": "3.6.6"
  }
 },
 "nbformat": 4,
 "nbformat_minor": 2
}
