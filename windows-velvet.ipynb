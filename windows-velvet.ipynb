{
 "cells": [
  {
   "cell_type": "code",
   "execution_count": 12,
   "metadata": {},
   "outputs": [
    {
     "name": "stdout",
     "output_type": "stream",
     "text": [
      "D:\\PyCharm Projects\\Genome Assembly Project\n",
      "1 example.data.fasta\n",
      "2 synthetic.example.noerror.small.fasta\n",
      "3 synthetic.noerror.small.fasta\n",
      "4 synthetic.noerror.large.fasta\n",
      "5 real.error.small.fasta\n",
      "6 real.error.large.fasta\n"
     ]
    }
   ],
   "source": [
    "import os\n",
    "import subprocess\n",
    "import time\n",
    "\n",
    "def mkdir(path):\n",
    "    try:\n",
    "        os.mkdir(path)\n",
    "    except Exception as e:\n",
    "        #print(e)\n",
    "        pass\n",
    "\n",
    "#./assemblers/velvet_1.2.10/velveth \"./data\" 11 \"./data/example.data.fasta\"\n",
    "#./assemblers/velvet_1.2.10/velvetg \"./data\" \n",
    "\n",
    "\n",
    "k = \"17\"\n",
    "results_path = r\"./data/results\"\n",
    "path = r\"./data\"\n",
    "velveth = r\"./assemblers/Velvet_1.1.04_executables\\win64\\multithread\\velveth_mt_x64.exe\"\n",
    "velvetg = r\"./assemblers/Velvet_1.1.04_executables\\win64\\multithread\\velvetg_mt_x64.exe\"\n",
    "\n",
    "print(os.getcwd())\n",
    "\n",
    "d = {'1 example.data.fasta':13,'2 synthetic.example.noerror.small.fasta':15,'3 synthetic.noerror.small.fasta':21,'4 synthetic.noerror.large.fasta':29,'5 real.error.small.fasta':35,'6 real.error.large.fasta':43}\n",
    "# {'5 real.error.small.fasta':19,35,21,'6 real.error.large.fasta':53,43}\n",
    "\n",
    "for f in os.listdir(path):\n",
    "    if f[-6:]==\".fasta\":\n",
    "        print(f)\n",
    "        fname = f[:-6]\n",
    "        file_path = os.path.join(path,f)\n",
    "        output_path = os.path.join(results_path, fname)\n",
    "        mkdir(output_path)\n",
    "        k = str(d[f])\n",
    "        p = subprocess.Popen([velveth, output_path, k, file_path],shell=False,stdout=subprocess.PIPE, stderr=subprocess.PIPE)\n",
    "        time.sleep(3)\n",
    "        #\"-short2\"\n",
    "        #print(p.communicate())\n",
    "        #print(p.returncode)\n",
    "        subprocess.Popen([velvetg, output_path],shell=False,stdout=subprocess.PIPE, stderr=subprocess.PIPE)\n",
    "        \n",
    "\n"
   ]
  },
  {
   "cell_type": "code",
   "execution_count": null,
   "metadata": {},
   "outputs": [],
   "source": []
  }
 ],
 "metadata": {
  "kernelspec": {
   "display_name": "Python 3.6",
   "language": "python",
   "name": "py36"
  },
  "language_info": {
   "codemirror_mode": {
    "name": "ipython",
    "version": 3
   },
   "file_extension": ".py",
   "mimetype": "text/x-python",
   "name": "python",
   "nbconvert_exporter": "python",
   "pygments_lexer": "ipython3",
   "version": "3.6.6"
  }
 },
 "nbformat": 4,
 "nbformat_minor": 2
}
