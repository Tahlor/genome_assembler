{
 "cells": [
  {
   "cell_type": "code",
   "execution_count": 40,
   "metadata": {},
   "outputs": [
    {
     "name": "stdout",
     "output_type": "stream",
     "text": [
      "D:\\PyCharm Projects\\Genome Assembly Project\n"
     ]
    }
   ],
   "source": [
    "import os\n",
    "import subprocess\n",
    "import time\n",
    "import sys\n",
    "sys.path.append(\"./GenomeAssemblerTA\")\n",
    "from contigs3 import calc_n50, longest_contig\n",
    "\n",
    "def mkdir(path):\n",
    "    try:\n",
    "        os.mkdir(path)\n",
    "    except Exception as e:\n",
    "        #print(e)\n",
    "        pass\n",
    "\n",
    "#./assemblers/velvet_1.2.10/velveth \"./data\" 11 \"./data/example.data.fasta\"\n",
    "#./assemblers/velvet_1.2.10/velvetg \"./data\" \n",
    "\n",
    "\n",
    "k = \"17\"\n",
    "results_path = r\"./data/results\"\n",
    "path = r\"./data\"\n",
    "velveth = r\"./assemblers/Velvet_1.1.04_executables\\win64\\multithread\\velveth_mt_x64.exe\"\n",
    "velvetg = r\"./assemblers/Velvet_1.1.04_executables\\win64\\multithread\\velvetg_mt_x64.exe\"\n",
    "\n",
    "print(os.getcwd())\n",
    "\n",
    "d = {'1 example.data.fasta':13,'2 synthetic.example.noerror.small.fasta':15,'3 synthetic.noerror.small.fasta':21,'4 synthetic.noerror.large.fasta':29,'5 real.error.small.fasta':35,'6 real.error.large.fasta':43}\n",
    "# {'5 real.error.small.fasta':19,35,21,'6 real.error.large.fasta':53,43}\n",
    "\n",
    "def open_file(path):\n",
    "    print(path)\n",
    "    with open(path, \"r\") as f:\n",
    "        text = f.readlines()\n",
    "        text = [t.strip() for t in text]\n",
    "    return text\n",
    "\n",
    "def run_velvet(fname, folder_with_fasta, k):\n",
    "    fname = f[:-6]\n",
    "    file_path = os.path.join(path,f)\n",
    "    output_path = os.path.join(results_path, fname)\n",
    "    mkdir(output_path)\n",
    "    p = subprocess.Popen([velveth, output_path, k, file_path],shell=False,stdout=subprocess.PIPE, stderr=subprocess.PIPE)\n",
    "    p.wait()\n",
    "    time.sleep(2)\n",
    "    #\"-short2\"\n",
    "    #print(p.communicate())\n",
    "    #print(p.returncode)\n",
    "    p = subprocess.Popen([velvetg, output_path],shell=False,stdout=subprocess.PIPE, stderr=subprocess.PIPE)\n",
    "    p.wait()\n",
    "    time.sleep(2)\n",
    "    return output_path\n",
    "\n",
    "def run_stats(velvet_path):\n",
    "    new_path = os.path.join(velvet_path, \"contigs.fa\")\n",
    "    res = open_file(new_path)\n",
    "    res = \"\".join([\",\" if \">NODE\" in x else x for x in res]).split(\",\") # combine nodes etc.\n",
    "    res = [x for x in res if x!='']\n",
    "    n50 = calc_n50(res)\n",
    "    lng = longest_contig(res)\n",
    "    summary = (f, n50, lng, len(res))\n",
    "    print(summary)\n",
    "    "
   ]
  },
  {
   "cell_type": "code",
   "execution_count": 42,
   "metadata": {},
   "outputs": [
    {
     "name": "stdout",
     "output_type": "stream",
     "text": [
      "k 13\n",
      "./data/results\\6 real.error.large\\contigs.fa\n"
     ]
    },
    {
     "ename": "FileNotFoundError",
     "evalue": "[Errno 2] No such file or directory: './data/results\\\\6 real.error.large\\\\contigs.fa'",
     "output_type": "error",
     "traceback": [
      "\u001b[1;31m---------------------------------------------------------------------------\u001b[0m",
      "\u001b[1;31mFileNotFoundError\u001b[0m                         Traceback (most recent call last)",
      "\u001b[1;32m<ipython-input-42-4d52c642c075>\u001b[0m in \u001b[0;36m<module>\u001b[1;34m()\u001b[0m\n\u001b[0;32m     11\u001b[0m     \u001b[0mf\u001b[0m \u001b[1;33m=\u001b[0m \u001b[1;34mr\"6 real.error.large.fasta\"\u001b[0m\u001b[1;33m\u001b[0m\u001b[0m\n\u001b[0;32m     12\u001b[0m     \u001b[0moutput_path\u001b[0m \u001b[1;33m=\u001b[0m \u001b[0mrun_velvet\u001b[0m\u001b[1;33m(\u001b[0m\u001b[0mf\u001b[0m\u001b[1;33m,\u001b[0m\u001b[0mpath\u001b[0m\u001b[1;33m,\u001b[0m\u001b[0mstr\u001b[0m\u001b[1;33m(\u001b[0m\u001b[0mk\u001b[0m\u001b[1;33m)\u001b[0m\u001b[1;33m)\u001b[0m\u001b[1;33m\u001b[0m\u001b[0m\n\u001b[1;32m---> 13\u001b[1;33m     \u001b[0mrun_stats\u001b[0m\u001b[1;33m(\u001b[0m\u001b[0moutput_path\u001b[0m\u001b[1;33m)\u001b[0m\u001b[1;33m\u001b[0m\u001b[0m\n\u001b[0m\u001b[0;32m     14\u001b[0m     \u001b[1;32mtry\u001b[0m\u001b[1;33m:\u001b[0m\u001b[1;33m\u001b[0m\u001b[0m\n\u001b[0;32m     15\u001b[0m         \u001b[0mshutil\u001b[0m\u001b[1;33m.\u001b[0m\u001b[0mrmtree\u001b[0m\u001b[1;33m(\u001b[0m\u001b[0moutput_path\u001b[0m\u001b[1;33m)\u001b[0m\u001b[1;33m\u001b[0m\u001b[0m\n",
      "\u001b[1;32m<ipython-input-40-a5ea4c44143d>\u001b[0m in \u001b[0;36mrun_stats\u001b[1;34m(velvet_path)\u001b[0m\n\u001b[0;32m     53\u001b[0m \u001b[1;32mdef\u001b[0m \u001b[0mrun_stats\u001b[0m\u001b[1;33m(\u001b[0m\u001b[0mvelvet_path\u001b[0m\u001b[1;33m)\u001b[0m\u001b[1;33m:\u001b[0m\u001b[1;33m\u001b[0m\u001b[0m\n\u001b[0;32m     54\u001b[0m     \u001b[0mnew_path\u001b[0m \u001b[1;33m=\u001b[0m \u001b[0mos\u001b[0m\u001b[1;33m.\u001b[0m\u001b[0mpath\u001b[0m\u001b[1;33m.\u001b[0m\u001b[0mjoin\u001b[0m\u001b[1;33m(\u001b[0m\u001b[0mvelvet_path\u001b[0m\u001b[1;33m,\u001b[0m \u001b[1;34m\"contigs.fa\"\u001b[0m\u001b[1;33m)\u001b[0m\u001b[1;33m\u001b[0m\u001b[0m\n\u001b[1;32m---> 55\u001b[1;33m     \u001b[0mres\u001b[0m \u001b[1;33m=\u001b[0m \u001b[0mopen_file\u001b[0m\u001b[1;33m(\u001b[0m\u001b[0mnew_path\u001b[0m\u001b[1;33m)\u001b[0m\u001b[1;33m\u001b[0m\u001b[0m\n\u001b[0m\u001b[0;32m     56\u001b[0m     \u001b[0mres\u001b[0m \u001b[1;33m=\u001b[0m \u001b[1;34m\"\"\u001b[0m\u001b[1;33m.\u001b[0m\u001b[0mjoin\u001b[0m\u001b[1;33m(\u001b[0m\u001b[1;33m[\u001b[0m\u001b[1;34m\",\"\u001b[0m \u001b[1;32mif\u001b[0m \u001b[1;34m\">NODE\"\u001b[0m \u001b[1;32min\u001b[0m \u001b[0mx\u001b[0m \u001b[1;32melse\u001b[0m \u001b[0mx\u001b[0m \u001b[1;32mfor\u001b[0m \u001b[0mx\u001b[0m \u001b[1;32min\u001b[0m \u001b[0mres\u001b[0m\u001b[1;33m]\u001b[0m\u001b[1;33m)\u001b[0m\u001b[1;33m.\u001b[0m\u001b[0msplit\u001b[0m\u001b[1;33m(\u001b[0m\u001b[1;34m\",\"\u001b[0m\u001b[1;33m)\u001b[0m \u001b[1;31m# combine nodes etc.\u001b[0m\u001b[1;33m\u001b[0m\u001b[0m\n\u001b[0;32m     57\u001b[0m     \u001b[0mres\u001b[0m \u001b[1;33m=\u001b[0m \u001b[1;33m[\u001b[0m\u001b[0mx\u001b[0m \u001b[1;32mfor\u001b[0m \u001b[0mx\u001b[0m \u001b[1;32min\u001b[0m \u001b[0mres\u001b[0m \u001b[1;32mif\u001b[0m \u001b[0mx\u001b[0m\u001b[1;33m!=\u001b[0m\u001b[1;34m''\u001b[0m\u001b[1;33m]\u001b[0m\u001b[1;33m\u001b[0m\u001b[0m\n",
      "\u001b[1;32m<ipython-input-40-a5ea4c44143d>\u001b[0m in \u001b[0;36mopen_file\u001b[1;34m(path)\u001b[0m\n\u001b[0;32m     30\u001b[0m \u001b[1;32mdef\u001b[0m \u001b[0mopen_file\u001b[0m\u001b[1;33m(\u001b[0m\u001b[0mpath\u001b[0m\u001b[1;33m)\u001b[0m\u001b[1;33m:\u001b[0m\u001b[1;33m\u001b[0m\u001b[0m\n\u001b[0;32m     31\u001b[0m     \u001b[0mprint\u001b[0m\u001b[1;33m(\u001b[0m\u001b[0mpath\u001b[0m\u001b[1;33m)\u001b[0m\u001b[1;33m\u001b[0m\u001b[0m\n\u001b[1;32m---> 32\u001b[1;33m     \u001b[1;32mwith\u001b[0m \u001b[0mopen\u001b[0m\u001b[1;33m(\u001b[0m\u001b[0mpath\u001b[0m\u001b[1;33m,\u001b[0m \u001b[1;34m\"r\"\u001b[0m\u001b[1;33m)\u001b[0m \u001b[1;32mas\u001b[0m \u001b[0mf\u001b[0m\u001b[1;33m:\u001b[0m\u001b[1;33m\u001b[0m\u001b[0m\n\u001b[0m\u001b[0;32m     33\u001b[0m         \u001b[0mtext\u001b[0m \u001b[1;33m=\u001b[0m \u001b[0mf\u001b[0m\u001b[1;33m.\u001b[0m\u001b[0mreadlines\u001b[0m\u001b[1;33m(\u001b[0m\u001b[1;33m)\u001b[0m\u001b[1;33m\u001b[0m\u001b[0m\n\u001b[0;32m     34\u001b[0m         \u001b[0mtext\u001b[0m \u001b[1;33m=\u001b[0m \u001b[1;33m[\u001b[0m\u001b[0mt\u001b[0m\u001b[1;33m.\u001b[0m\u001b[0mstrip\u001b[0m\u001b[1;33m(\u001b[0m\u001b[1;33m)\u001b[0m \u001b[1;32mfor\u001b[0m \u001b[0mt\u001b[0m \u001b[1;32min\u001b[0m \u001b[0mtext\u001b[0m\u001b[1;33m]\u001b[0m\u001b[1;33m\u001b[0m\u001b[0m\n",
      "\u001b[1;31mFileNotFoundError\u001b[0m: [Errno 2] No such file or directory: './data/results\\\\6 real.error.large\\\\contigs.fa'"
     ]
    }
   ],
   "source": [
    "import shutil\n",
    "if False:\n",
    "    for f in os.listdir(path):\n",
    "        if f[-6:]==\".fasta\":\n",
    "            print(f)\n",
    "            k = str(d[f])\n",
    "            output_path=run_velvet(f,path,k)\n",
    "\n",
    "for k in range(13,31,2):\n",
    "    print(\"k\",k)\n",
    "    f = r\"6 real.error.large.fasta\"\n",
    "    output_path = run_velvet(f,path,str(k))\n",
    "    run_stats(output_path)\n",
    "    try:\n",
    "        shutil.rmtree(output_path)\n",
    "    except:\n",
    "        pass\n",
    "    "
   ]
  },
  {
   "cell_type": "code",
   "execution_count": null,
   "metadata": {},
   "outputs": [],
   "source": []
  }
 ],
 "metadata": {
  "kernelspec": {
   "display_name": "Python 3",
   "language": "python",
   "name": "python3"
  },
  "language_info": {
   "codemirror_mode": {
    "name": "ipython",
    "version": 3
   },
   "file_extension": ".py",
   "mimetype": "text/x-python",
   "name": "python",
   "nbconvert_exporter": "python",
   "pygments_lexer": "ipython3",
   "version": "3.6.6"
  }
 },
 "nbformat": 4,
 "nbformat_minor": 2
}
